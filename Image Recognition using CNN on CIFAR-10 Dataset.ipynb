{
 "cells": [
  {
   "cell_type": "markdown",
   "id": "4f77ff62-25ed-455e-af7f-8cba382841f0",
   "metadata": {},
   "source": [
    "# Image Recognition using CNN on CIFAR-10 Dataset"
   ]
  },
  {
   "cell_type": "code",
   "execution_count": 1,
   "id": "2c3a7f05-f0ef-4008-8413-b25fea8b4b9a",
   "metadata": {},
   "outputs": [
    {
     "name": "stdout",
     "output_type": "stream",
     "text": [
      "WARNING:tensorflow:From C:\\Users\\user\\anaconda3\\Lib\\site-packages\\keras\\src\\losses.py:2976: The name tf.losses.sparse_softmax_cross_entropy is deprecated. Please use tf.compat.v1.losses.sparse_softmax_cross_entropy instead.\n",
      "\n"
     ]
    }
   ],
   "source": [
    "import keras\n",
    "from keras.datasets import cifar10\n",
    "from keras.models import Sequential\n",
    "from keras.layers import Dense,Dropout,Flatten,Conv2D,MaxPooling2D\n",
    "from pathlib import Path\n",
    "from keras.utils import to_categorical"
   ]
  },
  {
   "cell_type": "markdown",
   "id": "380fe016-ab1c-4791-9cce-ee9622d5fac7",
   "metadata": {},
   "source": [
    "Load the dataset"
   ]
  },
  {
   "cell_type": "code",
   "execution_count": 2,
   "id": "78cd6ba3-454b-44b6-ac62-e97ffcb8ae23",
   "metadata": {},
   "outputs": [],
   "source": [
    "(X_train,y_train),(X_test,y_test)=cifar10.load_data()"
   ]
  },
  {
   "cell_type": "markdown",
   "id": "ddeb432a-9a59-4421-b079-cef1287f567c",
   "metadata": {},
   "source": [
    "Normalize the data"
   ]
  },
  {
   "cell_type": "code",
   "execution_count": 3,
   "id": "826db200-1691-4ebd-951e-60f3dfcfc9e1",
   "metadata": {},
   "outputs": [],
   "source": [
    "X_train=X_train.astype('float32')\n",
    "X_test=X_test.astype('float32')\n",
    "X_train/=255.0\n",
    "X_test/=255.0"
   ]
  },
  {
   "cell_type": "markdown",
   "id": "c6b918b0-b7fb-4b9b-89cd-5c797c30ff31",
   "metadata": {},
   "source": [
    "Convert class vectors to binary class matrices"
   ]
  },
  {
   "cell_type": "code",
   "execution_count": 4,
   "id": "ef573472-fae5-4bc6-b9bd-9950abbd9c98",
   "metadata": {},
   "outputs": [],
   "source": [
    "y_train=to_categorical(y_train,10)\n",
    "y_test=to_categorical(y_test,10)"
   ]
  },
  {
   "cell_type": "code",
   "execution_count": 5,
   "id": "434d1ac6-3c86-400b-803e-2eff2da99b44",
   "metadata": {},
   "outputs": [
    {
     "name": "stdout",
     "output_type": "stream",
     "text": [
      "WARNING:tensorflow:From C:\\Users\\user\\anaconda3\\Lib\\site-packages\\keras\\src\\backend.py:873: The name tf.get_default_graph is deprecated. Please use tf.compat.v1.get_default_graph instead.\n",
      "\n",
      "WARNING:tensorflow:From C:\\Users\\user\\anaconda3\\Lib\\site-packages\\keras\\src\\layers\\pooling\\max_pooling2d.py:161: The name tf.nn.max_pool is deprecated. Please use tf.nn.max_pool2d instead.\n",
      "\n"
     ]
    }
   ],
   "source": [
    "model=Sequential()\n",
    "model.add(Conv2D(32,(3,3),padding='same',input_shape=(32,32,3),activation='relu'))\n",
    "model.add(Conv2D(32,(3,3),activation='relu'))\n",
    "model.add(MaxPooling2D(pool_size=(2,2)))\n",
    "model.add(Dropout(0.25))\n",
    "\n",
    "model.add(Conv2D(64,(3,3),padding='same',activation='relu'))\n",
    "model.add(Conv2D(32,(3,3),activation='relu'))\n",
    "model.add(MaxPooling2D(pool_size=(2,2)))\n",
    "model.add(Dropout(0.25))\n",
    "\n",
    "model.add(Flatten())\n",
    "model.add(Dense(512, activation='relu'))\n",
    "model.add(Dropout(0.5))\n",
    "model.add(Dense(10,activation='softmax'))"
   ]
  },
  {
   "cell_type": "code",
   "execution_count": 6,
   "id": "1b26ba2f-1e34-4b84-b4d6-21b508f2d8c4",
   "metadata": {},
   "outputs": [
    {
     "name": "stdout",
     "output_type": "stream",
     "text": [
      "WARNING:tensorflow:From C:\\Users\\user\\anaconda3\\Lib\\site-packages\\keras\\src\\optimizers\\__init__.py:309: The name tf.train.Optimizer is deprecated. Please use tf.compat.v1.train.Optimizer instead.\n",
      "\n",
      "Model: \"sequential\"\n",
      "_________________________________________________________________\n",
      " Layer (type)                Output Shape              Param #   \n",
      "=================================================================\n",
      " conv2d (Conv2D)             (None, 32, 32, 32)        896       \n",
      "                                                                 \n",
      " conv2d_1 (Conv2D)           (None, 30, 30, 32)        9248      \n",
      "                                                                 \n",
      " max_pooling2d (MaxPooling2  (None, 15, 15, 32)        0         \n",
      " D)                                                              \n",
      "                                                                 \n",
      " dropout (Dropout)           (None, 15, 15, 32)        0         \n",
      "                                                                 \n",
      " conv2d_2 (Conv2D)           (None, 15, 15, 64)        18496     \n",
      "                                                                 \n",
      " conv2d_3 (Conv2D)           (None, 13, 13, 32)        18464     \n",
      "                                                                 \n",
      " max_pooling2d_1 (MaxPoolin  (None, 6, 6, 32)          0         \n",
      " g2D)                                                            \n",
      "                                                                 \n",
      " dropout_1 (Dropout)         (None, 6, 6, 32)          0         \n",
      "                                                                 \n",
      " flatten (Flatten)           (None, 1152)              0         \n",
      "                                                                 \n",
      " dense (Dense)               (None, 512)               590336    \n",
      "                                                                 \n",
      " dropout_2 (Dropout)         (None, 512)               0         \n",
      "                                                                 \n",
      " dense_1 (Dense)             (None, 10)                5130      \n",
      "                                                                 \n",
      "=================================================================\n",
      "Total params: 642570 (2.45 MB)\n",
      "Trainable params: 642570 (2.45 MB)\n",
      "Non-trainable params: 0 (0.00 Byte)\n",
      "_________________________________________________________________\n"
     ]
    }
   ],
   "source": [
    "model.compile(loss='categorical_crossentropy',optimizer='adam',metrics=['accuracy'])\n",
    "model.summary()"
   ]
  },
  {
   "cell_type": "markdown",
   "id": "beeda8aa-90c9-4d49-b891-f2e46e787675",
   "metadata": {},
   "source": [
    "Train the model"
   ]
  },
  {
   "cell_type": "code",
   "execution_count": 7,
   "id": "2d7738dd-4847-459c-946f-95bd785b0c04",
   "metadata": {},
   "outputs": [
    {
     "name": "stdout",
     "output_type": "stream",
     "text": [
      "Epoch 1/100\n",
      "WARNING:tensorflow:From C:\\Users\\user\\anaconda3\\Lib\\site-packages\\keras\\src\\utils\\tf_utils.py:492: The name tf.ragged.RaggedTensorValue is deprecated. Please use tf.compat.v1.ragged.RaggedTensorValue instead.\n",
      "\n",
      "WARNING:tensorflow:From C:\\Users\\user\\anaconda3\\Lib\\site-packages\\keras\\src\\engine\\base_layer_utils.py:384: The name tf.executing_eagerly_outside_functions is deprecated. Please use tf.compat.v1.executing_eagerly_outside_functions instead.\n",
      "\n",
      "1563/1563 [==============================] - 67s 42ms/step - loss: 1.5348 - accuracy: 0.4408 - val_loss: 1.1687 - val_accuracy: 0.5869\n",
      "Epoch 2/100\n",
      "1563/1563 [==============================] - 70s 45ms/step - loss: 1.1466 - accuracy: 0.5920 - val_loss: 0.9746 - val_accuracy: 0.6595\n",
      "Epoch 3/100\n",
      "1563/1563 [==============================] - 74s 48ms/step - loss: 1.0114 - accuracy: 0.6422 - val_loss: 0.8954 - val_accuracy: 0.6860\n",
      "Epoch 4/100\n",
      "1563/1563 [==============================] - 66s 42ms/step - loss: 0.9243 - accuracy: 0.6769 - val_loss: 0.8487 - val_accuracy: 0.7018\n",
      "Epoch 5/100\n",
      "1563/1563 [==============================] - 64s 41ms/step - loss: 0.8658 - accuracy: 0.6952 - val_loss: 0.7871 - val_accuracy: 0.7309\n",
      "Epoch 6/100\n",
      "1563/1563 [==============================] - 63s 40ms/step - loss: 0.8140 - accuracy: 0.7157 - val_loss: 0.7827 - val_accuracy: 0.7351\n",
      "Epoch 7/100\n",
      "1563/1563 [==============================] - 63s 40ms/step - loss: 0.7862 - accuracy: 0.7216 - val_loss: 0.7378 - val_accuracy: 0.7446\n",
      "Epoch 8/100\n",
      "1563/1563 [==============================] - 63s 41ms/step - loss: 0.7505 - accuracy: 0.7374 - val_loss: 0.7127 - val_accuracy: 0.7550\n",
      "Epoch 9/100\n",
      "1563/1563 [==============================] - 66s 42ms/step - loss: 0.7202 - accuracy: 0.7470 - val_loss: 0.7150 - val_accuracy: 0.7555\n",
      "Epoch 10/100\n",
      "1563/1563 [==============================] - 67s 43ms/step - loss: 0.7040 - accuracy: 0.7512 - val_loss: 0.6966 - val_accuracy: 0.7576\n",
      "Epoch 11/100\n",
      "1563/1563 [==============================] - 70s 45ms/step - loss: 0.6860 - accuracy: 0.7582 - val_loss: 0.7209 - val_accuracy: 0.7539\n",
      "Epoch 12/100\n",
      "1563/1563 [==============================] - 67s 43ms/step - loss: 0.6702 - accuracy: 0.7641 - val_loss: 0.7098 - val_accuracy: 0.7562\n",
      "Epoch 13/100\n",
      "1563/1563 [==============================] - 74s 48ms/step - loss: 0.6542 - accuracy: 0.7691 - val_loss: 0.6559 - val_accuracy: 0.7754\n",
      "Epoch 14/100\n",
      "1563/1563 [==============================] - 69s 44ms/step - loss: 0.6376 - accuracy: 0.7756 - val_loss: 0.6695 - val_accuracy: 0.7732\n",
      "Epoch 15/100\n",
      "1563/1563 [==============================] - 66s 42ms/step - loss: 0.6213 - accuracy: 0.7812 - val_loss: 0.7291 - val_accuracy: 0.7590\n",
      "Epoch 16/100\n",
      "1563/1563 [==============================] - 67s 43ms/step - loss: 0.6113 - accuracy: 0.7845 - val_loss: 0.6632 - val_accuracy: 0.7760\n",
      "Epoch 17/100\n",
      "1563/1563 [==============================] - 67s 43ms/step - loss: 0.6028 - accuracy: 0.7859 - val_loss: 0.6502 - val_accuracy: 0.7781\n",
      "Epoch 18/100\n",
      "1563/1563 [==============================] - 64s 41ms/step - loss: 0.5922 - accuracy: 0.7923 - val_loss: 0.6595 - val_accuracy: 0.7739\n",
      "Epoch 19/100\n",
      "1563/1563 [==============================] - 71s 45ms/step - loss: 0.5841 - accuracy: 0.7940 - val_loss: 0.7072 - val_accuracy: 0.7680\n",
      "Epoch 20/100\n",
      "1563/1563 [==============================] - 68s 44ms/step - loss: 0.5743 - accuracy: 0.7985 - val_loss: 0.6585 - val_accuracy: 0.7783\n",
      "Epoch 21/100\n",
      "1563/1563 [==============================] - 75s 48ms/step - loss: 0.5743 - accuracy: 0.7979 - val_loss: 0.6400 - val_accuracy: 0.7861\n",
      "Epoch 22/100\n",
      "1563/1563 [==============================] - 66s 43ms/step - loss: 0.5589 - accuracy: 0.8006 - val_loss: 0.6633 - val_accuracy: 0.7819\n",
      "Epoch 23/100\n",
      "1563/1563 [==============================] - 66s 42ms/step - loss: 0.5540 - accuracy: 0.8033 - val_loss: 0.6803 - val_accuracy: 0.7762\n",
      "Epoch 24/100\n",
      "1563/1563 [==============================] - 75s 48ms/step - loss: 0.5528 - accuracy: 0.8082 - val_loss: 0.6748 - val_accuracy: 0.7741\n",
      "Epoch 25/100\n",
      "1563/1563 [==============================] - 76s 49ms/step - loss: 0.5434 - accuracy: 0.8080 - val_loss: 0.6635 - val_accuracy: 0.7784\n",
      "Epoch 26/100\n",
      "1563/1563 [==============================] - 86s 55ms/step - loss: 0.5365 - accuracy: 0.8112 - val_loss: 0.6553 - val_accuracy: 0.7851\n",
      "Epoch 27/100\n",
      "1563/1563 [==============================] - 88s 56ms/step - loss: 0.5354 - accuracy: 0.8118 - val_loss: 0.6533 - val_accuracy: 0.7826\n",
      "Epoch 28/100\n",
      "1563/1563 [==============================] - 95s 61ms/step - loss: 0.5324 - accuracy: 0.8112 - val_loss: 0.6716 - val_accuracy: 0.7826\n",
      "Epoch 29/100\n",
      "1563/1563 [==============================] - 99s 63ms/step - loss: 0.5189 - accuracy: 0.8165 - val_loss: 0.6742 - val_accuracy: 0.7832\n",
      "Epoch 30/100\n",
      "1563/1563 [==============================] - 103s 66ms/step - loss: 0.5214 - accuracy: 0.8180 - val_loss: 0.6861 - val_accuracy: 0.7744\n",
      "Epoch 31/100\n",
      "1563/1563 [==============================] - 95s 61ms/step - loss: 0.5128 - accuracy: 0.8185 - val_loss: 0.6568 - val_accuracy: 0.7837\n",
      "Epoch 32/100\n",
      "1563/1563 [==============================] - 89s 57ms/step - loss: 0.5116 - accuracy: 0.8192 - val_loss: 0.6510 - val_accuracy: 0.7814\n",
      "Epoch 33/100\n",
      "1563/1563 [==============================] - 86s 55ms/step - loss: 0.5041 - accuracy: 0.8242 - val_loss: 0.6651 - val_accuracy: 0.7767\n",
      "Epoch 34/100\n",
      "1563/1563 [==============================] - 93s 60ms/step - loss: 0.5046 - accuracy: 0.8224 - val_loss: 0.6392 - val_accuracy: 0.7935\n",
      "Epoch 35/100\n",
      "1563/1563 [==============================] - 85s 54ms/step - loss: 0.4914 - accuracy: 0.8287 - val_loss: 0.6319 - val_accuracy: 0.7910\n",
      "Epoch 36/100\n",
      "1563/1563 [==============================] - 70s 45ms/step - loss: 0.4952 - accuracy: 0.8265 - val_loss: 0.6813 - val_accuracy: 0.7763\n",
      "Epoch 37/100\n",
      "1563/1563 [==============================] - 67s 43ms/step - loss: 0.4991 - accuracy: 0.8244 - val_loss: 0.6668 - val_accuracy: 0.7812\n",
      "Epoch 38/100\n",
      "1563/1563 [==============================] - 68s 43ms/step - loss: 0.4852 - accuracy: 0.8290 - val_loss: 0.6603 - val_accuracy: 0.7855\n",
      "Epoch 39/100\n",
      "1563/1563 [==============================] - 73s 47ms/step - loss: 0.4870 - accuracy: 0.8291 - val_loss: 0.6594 - val_accuracy: 0.7848\n",
      "Epoch 40/100\n",
      "1563/1563 [==============================] - 72s 46ms/step - loss: 0.4851 - accuracy: 0.8301 - val_loss: 0.6945 - val_accuracy: 0.7780\n",
      "Epoch 41/100\n",
      "1563/1563 [==============================] - 71s 45ms/step - loss: 0.4785 - accuracy: 0.8314 - val_loss: 0.6562 - val_accuracy: 0.7892\n",
      "Epoch 42/100\n",
      "1563/1563 [==============================] - 69s 44ms/step - loss: 0.4869 - accuracy: 0.8306 - val_loss: 0.6642 - val_accuracy: 0.7834\n",
      "Epoch 43/100\n",
      "1563/1563 [==============================] - 72s 46ms/step - loss: 0.4813 - accuracy: 0.8320 - val_loss: 0.6509 - val_accuracy: 0.7868\n",
      "Epoch 44/100\n",
      "1563/1563 [==============================] - 71s 45ms/step - loss: 0.4773 - accuracy: 0.8336 - val_loss: 0.6727 - val_accuracy: 0.7874\n",
      "Epoch 45/100\n",
      "1563/1563 [==============================] - 70s 45ms/step - loss: 0.4735 - accuracy: 0.8338 - val_loss: 0.6541 - val_accuracy: 0.7849\n",
      "Epoch 46/100\n",
      "1563/1563 [==============================] - 95s 61ms/step - loss: 0.4704 - accuracy: 0.8357 - val_loss: 0.6782 - val_accuracy: 0.7858\n",
      "Epoch 47/100\n",
      "1563/1563 [==============================] - 68s 43ms/step - loss: 0.4664 - accuracy: 0.8353 - val_loss: 0.6448 - val_accuracy: 0.7981\n",
      "Epoch 48/100\n",
      "1563/1563 [==============================] - 70s 44ms/step - loss: 0.4571 - accuracy: 0.8407 - val_loss: 0.6545 - val_accuracy: 0.7855\n",
      "Epoch 49/100\n",
      "1563/1563 [==============================] - 72s 46ms/step - loss: 0.4585 - accuracy: 0.8385 - val_loss: 0.6675 - val_accuracy: 0.7872\n",
      "Epoch 50/100\n",
      "1563/1563 [==============================] - 71s 45ms/step - loss: 0.4645 - accuracy: 0.8374 - val_loss: 0.6704 - val_accuracy: 0.7862\n",
      "Epoch 51/100\n",
      "1563/1563 [==============================] - 72s 46ms/step - loss: 0.4663 - accuracy: 0.8380 - val_loss: 0.6625 - val_accuracy: 0.7889\n",
      "Epoch 52/100\n",
      "1563/1563 [==============================] - 70s 45ms/step - loss: 0.4546 - accuracy: 0.8391 - val_loss: 0.6474 - val_accuracy: 0.7958\n",
      "Epoch 53/100\n",
      "1563/1563 [==============================] - 70s 45ms/step - loss: 0.4587 - accuracy: 0.8407 - val_loss: 0.6577 - val_accuracy: 0.7857\n",
      "Epoch 54/100\n",
      "1563/1563 [==============================] - 72s 46ms/step - loss: 0.4551 - accuracy: 0.8406 - val_loss: 0.6702 - val_accuracy: 0.7868\n",
      "Epoch 55/100\n",
      "1563/1563 [==============================] - 70s 45ms/step - loss: 0.4561 - accuracy: 0.8404 - val_loss: 0.6396 - val_accuracy: 0.7893\n",
      "Epoch 56/100\n",
      "1563/1563 [==============================] - 73s 47ms/step - loss: 0.4453 - accuracy: 0.8460 - val_loss: 0.6770 - val_accuracy: 0.7883\n",
      "Epoch 57/100\n",
      "1563/1563 [==============================] - 72s 46ms/step - loss: 0.4484 - accuracy: 0.8412 - val_loss: 0.6687 - val_accuracy: 0.7886\n",
      "Epoch 58/100\n",
      "1563/1563 [==============================] - 73s 47ms/step - loss: 0.4504 - accuracy: 0.8428 - val_loss: 0.6965 - val_accuracy: 0.7828\n",
      "Epoch 59/100\n",
      "1563/1563 [==============================] - 72s 46ms/step - loss: 0.4463 - accuracy: 0.8431 - val_loss: 0.6643 - val_accuracy: 0.7887\n",
      "Epoch 60/100\n",
      "1563/1563 [==============================] - 72s 46ms/step - loss: 0.4399 - accuracy: 0.8461 - val_loss: 0.6455 - val_accuracy: 0.7879\n",
      "Epoch 61/100\n",
      "1563/1563 [==============================] - 74s 47ms/step - loss: 0.4428 - accuracy: 0.8468 - val_loss: 0.6618 - val_accuracy: 0.7901\n",
      "Epoch 62/100\n",
      "1563/1563 [==============================] - 70s 45ms/step - loss: 0.4374 - accuracy: 0.8473 - val_loss: 0.6630 - val_accuracy: 0.7902\n",
      "Epoch 63/100\n",
      "1563/1563 [==============================] - 78s 50ms/step - loss: 0.4437 - accuracy: 0.8472 - val_loss: 0.6463 - val_accuracy: 0.7944\n",
      "Epoch 64/100\n",
      "1563/1563 [==============================] - 73s 47ms/step - loss: 0.4402 - accuracy: 0.8471 - val_loss: 0.6425 - val_accuracy: 0.7901\n",
      "Epoch 65/100\n",
      "1563/1563 [==============================] - 74s 47ms/step - loss: 0.4344 - accuracy: 0.8479 - val_loss: 0.6556 - val_accuracy: 0.7935\n",
      "Epoch 66/100\n",
      "1563/1563 [==============================] - 79s 50ms/step - loss: 0.4299 - accuracy: 0.8504 - val_loss: 0.6520 - val_accuracy: 0.7941\n",
      "Epoch 67/100\n",
      "1563/1563 [==============================] - 71s 45ms/step - loss: 0.4365 - accuracy: 0.8506 - val_loss: 0.6543 - val_accuracy: 0.7948\n",
      "Epoch 68/100\n",
      "1563/1563 [==============================] - 71s 46ms/step - loss: 0.4355 - accuracy: 0.8485 - val_loss: 0.6626 - val_accuracy: 0.7901\n",
      "Epoch 69/100\n",
      "1563/1563 [==============================] - 73s 47ms/step - loss: 0.4333 - accuracy: 0.8487 - val_loss: 0.6500 - val_accuracy: 0.7931\n",
      "Epoch 70/100\n",
      "1563/1563 [==============================] - 72s 46ms/step - loss: 0.4349 - accuracy: 0.8494 - val_loss: 0.6487 - val_accuracy: 0.7922\n",
      "Epoch 71/100\n",
      "1563/1563 [==============================] - 77s 50ms/step - loss: 0.4307 - accuracy: 0.8496 - val_loss: 0.6512 - val_accuracy: 0.7912\n",
      "Epoch 72/100\n",
      "1563/1563 [==============================] - 77s 49ms/step - loss: 0.4279 - accuracy: 0.8528 - val_loss: 0.6634 - val_accuracy: 0.7877\n",
      "Epoch 73/100\n",
      "1563/1563 [==============================] - 70s 45ms/step - loss: 0.4235 - accuracy: 0.8520 - val_loss: 0.6484 - val_accuracy: 0.7963\n",
      "Epoch 74/100\n",
      "1563/1563 [==============================] - 73s 47ms/step - loss: 0.4271 - accuracy: 0.8523 - val_loss: 0.6814 - val_accuracy: 0.7869\n",
      "Epoch 75/100\n",
      "1563/1563 [==============================] - 70s 45ms/step - loss: 0.4293 - accuracy: 0.8507 - val_loss: 0.6585 - val_accuracy: 0.7901\n",
      "Epoch 76/100\n",
      "1563/1563 [==============================] - 69s 44ms/step - loss: 0.4238 - accuracy: 0.8518 - val_loss: 0.6575 - val_accuracy: 0.7914\n",
      "Epoch 77/100\n",
      "1563/1563 [==============================] - 69s 44ms/step - loss: 0.4135 - accuracy: 0.8557 - val_loss: 0.6837 - val_accuracy: 0.7871\n",
      "Epoch 78/100\n",
      "1563/1563 [==============================] - 68s 44ms/step - loss: 0.4195 - accuracy: 0.8558 - val_loss: 0.6676 - val_accuracy: 0.7890\n",
      "Epoch 79/100\n",
      "1563/1563 [==============================] - 68s 43ms/step - loss: 0.4101 - accuracy: 0.8559 - val_loss: 0.6790 - val_accuracy: 0.7821\n",
      "Epoch 80/100\n",
      "1563/1563 [==============================] - 68s 43ms/step - loss: 0.4160 - accuracy: 0.8541 - val_loss: 0.6899 - val_accuracy: 0.7881\n",
      "Epoch 81/100\n",
      "1563/1563 [==============================] - 79s 50ms/step - loss: 0.4201 - accuracy: 0.8547 - val_loss: 0.6837 - val_accuracy: 0.7834\n",
      "Epoch 82/100\n",
      "1563/1563 [==============================] - 73s 47ms/step - loss: 0.4173 - accuracy: 0.8558 - val_loss: 0.6593 - val_accuracy: 0.7980\n",
      "Epoch 83/100\n",
      "1563/1563 [==============================] - 70s 45ms/step - loss: 0.4188 - accuracy: 0.8550 - val_loss: 0.6656 - val_accuracy: 0.7921\n",
      "Epoch 84/100\n",
      "1563/1563 [==============================] - 73s 47ms/step - loss: 0.4099 - accuracy: 0.8558 - val_loss: 0.6729 - val_accuracy: 0.7937\n",
      "Epoch 85/100\n",
      "1563/1563 [==============================] - 76s 49ms/step - loss: 0.4130 - accuracy: 0.8576 - val_loss: 0.6731 - val_accuracy: 0.7930\n",
      "Epoch 86/100\n",
      "1563/1563 [==============================] - 75s 48ms/step - loss: 0.4198 - accuracy: 0.8524 - val_loss: 0.6716 - val_accuracy: 0.7936\n",
      "Epoch 87/100\n",
      "1563/1563 [==============================] - 73s 47ms/step - loss: 0.4079 - accuracy: 0.8587 - val_loss: 0.6938 - val_accuracy: 0.7872\n",
      "Epoch 88/100\n",
      "1563/1563 [==============================] - 74s 47ms/step - loss: 0.4102 - accuracy: 0.8572 - val_loss: 0.6786 - val_accuracy: 0.7969\n",
      "Epoch 89/100\n",
      "1563/1563 [==============================] - 84s 54ms/step - loss: 0.4147 - accuracy: 0.8561 - val_loss: 0.6865 - val_accuracy: 0.7933\n",
      "Epoch 90/100\n",
      "1563/1563 [==============================] - 80s 51ms/step - loss: 0.4169 - accuracy: 0.8554 - val_loss: 0.7064 - val_accuracy: 0.7882\n",
      "Epoch 91/100\n",
      "1563/1563 [==============================] - 75s 48ms/step - loss: 0.4104 - accuracy: 0.8577 - val_loss: 0.6559 - val_accuracy: 0.7934\n",
      "Epoch 92/100\n",
      "1563/1563 [==============================] - 75s 48ms/step - loss: 0.4175 - accuracy: 0.8559 - val_loss: 0.6708 - val_accuracy: 0.7836\n",
      "Epoch 93/100\n",
      "1563/1563 [==============================] - 74s 47ms/step - loss: 0.4080 - accuracy: 0.8584 - val_loss: 0.7055 - val_accuracy: 0.7830\n",
      "Epoch 94/100\n",
      "1563/1563 [==============================] - 73s 47ms/step - loss: 0.4085 - accuracy: 0.8583 - val_loss: 0.6735 - val_accuracy: 0.7917\n",
      "Epoch 95/100\n",
      "1563/1563 [==============================] - 72s 46ms/step - loss: 0.4110 - accuracy: 0.8559 - val_loss: 0.6628 - val_accuracy: 0.7935\n",
      "Epoch 96/100\n",
      "1563/1563 [==============================] - 76s 49ms/step - loss: 0.3996 - accuracy: 0.8614 - val_loss: 0.7137 - val_accuracy: 0.7843\n",
      "Epoch 97/100\n",
      "1563/1563 [==============================] - 80s 51ms/step - loss: 0.4076 - accuracy: 0.8592 - val_loss: 0.6743 - val_accuracy: 0.7914\n",
      "Epoch 98/100\n",
      "1563/1563 [==============================] - 75s 48ms/step - loss: 0.4010 - accuracy: 0.8610 - val_loss: 0.6574 - val_accuracy: 0.7941\n",
      "Epoch 99/100\n",
      "1563/1563 [==============================] - 75s 48ms/step - loss: 0.3984 - accuracy: 0.8627 - val_loss: 0.6703 - val_accuracy: 0.7975\n",
      "Epoch 100/100\n",
      "1563/1563 [==============================] - 76s 49ms/step - loss: 0.4078 - accuracy: 0.8583 - val_loss: 0.6638 - val_accuracy: 0.7988\n"
     ]
    },
    {
     "data": {
      "text/plain": [
       "<keras.src.callbacks.History at 0x231d73ad510>"
      ]
     },
     "execution_count": 7,
     "metadata": {},
     "output_type": "execute_result"
    }
   ],
   "source": [
    "model.fit(X_train,y_train,batch_size=32,epochs=100,validation_data=(X_test,y_test),shuffle=True)"
   ]
  },
  {
   "cell_type": "markdown",
   "id": "faf12d34-c449-461c-8fd2-bec27e7eba53",
   "metadata": {},
   "source": [
    "Save the neural network architecture"
   ]
  },
  {
   "cell_type": "code",
   "execution_count": 8,
   "id": "7c54a203-0060-4a0e-addd-85b471e3b730",
   "metadata": {},
   "outputs": [
    {
     "data": {
      "text/plain": [
       "6342"
      ]
     },
     "execution_count": 8,
     "metadata": {},
     "output_type": "execute_result"
    }
   ],
   "source": [
    "model_structure=model.to_json()\n",
    "f=Path(\"model_structure.json\")\n",
    "f.write_text(model_structure)"
   ]
  },
  {
   "cell_type": "markdown",
   "id": "5e2cf634-2db5-45d5-b637-f2ca34f41c7b",
   "metadata": {},
   "source": [
    "Save the trained neural network weights"
   ]
  },
  {
   "cell_type": "code",
   "execution_count": 9,
   "id": "e937c3b1-857d-4109-85cf-203a4e5190fb",
   "metadata": {},
   "outputs": [],
   "source": [
    "model.save_weights('model_weight.h5')"
   ]
  },
  {
   "cell_type": "markdown",
   "id": "f4ab2242-d3be-42d4-961e-00627435e438",
   "metadata": {},
   "source": [
    "Making Predictions on the images"
   ]
  },
  {
   "cell_type": "code",
   "execution_count": 10,
   "id": "dc9f2000-104f-4919-96eb-0ec77ac81c06",
   "metadata": {},
   "outputs": [],
   "source": [
    "from keras.models import model_from_json\n",
    "from pathlib import Path\n",
    "from keras.preprocessing import image\n",
    "import numpy as np"
   ]
  },
  {
   "cell_type": "code",
   "execution_count": 11,
   "id": "7b23c8af-e6de-400f-8be6-88a2940a4412",
   "metadata": {},
   "outputs": [],
   "source": [
    "class_labels=['Planes','car','Bird','Cat','Deer','Dog','Frog','Horse','Boat','Truck']"
   ]
  },
  {
   "cell_type": "markdown",
   "id": "bd1d3bfd-aab2-47b8-a487-ed8c9b2ee2d1",
   "metadata": {},
   "source": [
    "load the json file that contains the model structure"
   ]
  },
  {
   "cell_type": "code",
   "execution_count": 12,
   "id": "d1694da6-7799-483f-a797-c0ef883b01ed",
   "metadata": {},
   "outputs": [],
   "source": [
    "f=Path('model_structure.json')\n",
    "model_structure=f.read_text()"
   ]
  },
  {
   "cell_type": "markdown",
   "id": "dd20085c-5c77-4bce-a873-57ec66f9cd98",
   "metadata": {},
   "source": [
    "Recreate the keras model object from the json data"
   ]
  },
  {
   "cell_type": "code",
   "execution_count": 13,
   "id": "f5cc2f2e-2f61-422e-988b-6a25c648ea08",
   "metadata": {},
   "outputs": [],
   "source": [
    "model=model_from_json(model_structure)"
   ]
  },
  {
   "cell_type": "markdown",
   "id": "898731ee-0b69-442b-b911-3883a3dd7c07",
   "metadata": {},
   "source": [
    "reload the model training weights"
   ]
  },
  {
   "cell_type": "code",
   "execution_count": 14,
   "id": "2900da15-69a0-4b55-92c3-718eb96c0a42",
   "metadata": {},
   "outputs": [],
   "source": [
    "model.load_weights('model_weight.h5')"
   ]
  },
  {
   "cell_type": "markdown",
   "id": "5a4e210a-fd21-4300-bdc2-aa0ff81b4d1c",
   "metadata": {},
   "source": [
    "Load an image file to test"
   ]
  },
  {
   "cell_type": "code",
   "execution_count": 15,
   "id": "0738eb67-f7b3-42f7-8122-e94177b2c468",
   "metadata": {},
   "outputs": [
    {
     "data": {
      "text/plain": [
       "<matplotlib.image.AxesImage at 0x231aa0a4890>"
      ]
     },
     "execution_count": 15,
     "metadata": {},
     "output_type": "execute_result"
    },
    {
     "data": {
      "image/png": "[encoded data removed]",
      "text/plain": [
       "<Figure size 640x480 with 1 Axes>"
      ]
     },
     "metadata": {},
     "output_type": "display_data"
    }
   ],
   "source": [
    "import matplotlib.pyplot as plt\n",
    "from tensorflow.keras.utils import load_img,img_to_array\n",
    "img=load_img('dog.png',target_size=(32,32))\n",
    "plt.imshow(img)"
   ]
  },
  {
   "cell_type": "markdown",
   "id": "d2bd67c3-e396-4b14-9fa6-9ef314306168",
   "metadata": {},
   "source": [
    "Convert the image to a numpy array"
   ]
  },
  {
   "cell_type": "code",
   "execution_count": 16,
   "id": "bb899025-36d2-496d-8198-7f43b1d8923c",
   "metadata": {},
   "outputs": [],
   "source": [
    "from tensorflow.keras.utils import img_to_array\n",
    "image_to_test=img_to_array(img)"
   ]
  },
  {
   "cell_type": "code",
   "execution_count": 17,
   "id": "06c01796-02d6-49df-a848-8790f28df28a",
   "metadata": {},
   "outputs": [],
   "source": [
    "list_of_images=np.expand_dims(image_to_test,axis=0)"
   ]
  },
  {
   "cell_type": "markdown",
   "id": "f7e1d45a-1b90-444b-9c5a-718a46b2527c",
   "metadata": {},
   "source": [
    "make predictions using the model"
   ]
  },
  {
   "cell_type": "code",
   "execution_count": 18,
   "id": "74a0bf47-c68b-4723-85ff-b0db17c759c0",
   "metadata": {},
   "outputs": [
    {
     "name": "stdout",
     "output_type": "stream",
     "text": [
      "1/1 [==============================] - 0s 194ms/step\n"
     ]
    }
   ],
   "source": [
    "results=model.predict(list_of_images)"
   ]
  },
  {
   "cell_type": "markdown",
   "id": "3f9002d1-b001-4c37-a161-55265bb9e422",
   "metadata": {},
   "source": [
    "since we are only testing one image, we only need to check the first result"
   ]
  },
  {
   "cell_type": "code",
   "execution_count": 19,
   "id": "8fd553d1-fa75-4997-b65f-2acb44e89aea",
   "metadata": {},
   "outputs": [],
   "source": [
    "single_result=results[0]"
   ]
  },
  {
   "cell_type": "markdown",
   "id": "3ae1e430-14ac-4e7f-a921-26c9c1eaefea",
   "metadata": {},
   "source": [
    "We will get a likeliood score for all 10 possible classes. Find out which class has the highest score"
   ]
  },
  {
   "cell_type": "code",
   "execution_count": 20,
   "id": "fd191961-2297-43c2-8731-77af9baee3cf",
   "metadata": {},
   "outputs": [],
   "source": [
    "most_likely_class_index=int(np.argmax(single_result))\n",
    "class_likelihood=single_result[most_likely_class_index]"
   ]
  },
  {
   "cell_type": "markdown",
   "id": "40a9e633-5bbe-4eb9-86be-80482a680a65",
   "metadata": {},
   "source": [
    "Get the name of the most likely class"
   ]
  },
  {
   "cell_type": "code",
   "execution_count": 21,
   "id": "7e992547-86e1-46d0-973f-a182bd97a9e0",
   "metadata": {},
   "outputs": [],
   "source": [
    "class_label=class_labels[most_likely_class_index]"
   ]
  },
  {
   "cell_type": "code",
   "execution_count": 22,
   "id": "63ee527a-d133-46b7-af58-7304c5d869f1",
   "metadata": {},
   "outputs": [
    {
     "name": "stdout",
     "output_type": "stream",
     "text": [
      "This image is a Truck likelihood : 1.000000\n"
     ]
    }
   ],
   "source": [
    "print('This image is a {} likelihood : {:2f}'.format(class_label,class_likelihood))"
   ]
  }
 ],
 "metadata": {
  "kernelspec": {
   "display_name": "Python 3 (ipykernel)",
   "language": "python",
   "name": "python3"
  },
  "language_info": {
   "codemirror_mode": {
    "name": "ipython",
    "version": 3
   },
   "file_extension": ".py",
   "mimetype": "text/x-python",
   "name": "python",
   "nbconvert_exporter": "python",
   "pygments_lexer": "ipython3",
   "version": "3.11.7"
  }
 },
 "nbformat": 4,
 "nbformat_minor": 5
}
